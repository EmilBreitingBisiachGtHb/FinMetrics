{
 "cells": [
  {
   "cell_type": "code",
   "execution_count": 1,
   "metadata": {},
   "outputs": [],
   "source": [
    "import numpy as np\n",
    "import scipy.optimize\n",
    "from scipy.special import gamma as gamma_func\n",
    "from scipy.stats import norm as gaussian, t as student_t\n",
    "\n",
    "# For example\n",
    "import pandas as pd\n",
    "import matplotlib.pyplot as plt"
   ]
  },
  {
   "cell_type": "code",
   "execution_count": 4,
   "metadata": {},
   "outputs": [],
   "source": [
    "data_df = pd.read_csv(\"DAAA.csv\")\n",
    "Y = data_df[\"DAAA\"].dropna()\n",
    "Y = np.array(Y).reshape(-1,1)\n",
    "\n",
    "Y_train = Y[:800]\n",
    "Y_test = Y[800:]\n",
    "\"hi\""
   ]
  },
  {
   "cell_type": "code",
   "execution_count": 9,
   "metadata": {},
   "outputs": [],
   "source": [
    "class DAR:\n",
    "    def __init__(self, p):\n",
    "        \"\"\"\n",
    "        Initialize the DAR class\n",
    "        \"\"\"\n",
    "        self.p = p\n",
    "        self.params = None\n",
    "        self.num_params = 1 + 2 * self.p\n",
    "        self.loglike_val = None\n",
    "\n",
    "    def t(self, Y):\n",
    "        T = len(Y)\n",
    "        self.T = T\n",
    "        t = np.arange(start=-1, stop=-(T+1), step=-1)\n",
    "        \n",
    "        return t\n",
    "    \n",
    "    def y(self, Y):\n",
    "        \n",
    "        max_lag = self.p \n",
    "\n",
    "        Y = np.vstack((np.full((max_lag, Y.shape[1]), np.nan), Y))\n",
    "        y = lambda t: Y[t,:]\n",
    "        \n",
    "        return y\n",
    "\n",
    "    def parse_params(self, params):\n",
    "        rho = params[:self.p]\n",
    "        omega = params[self.p]\n",
    "        alpha = params[self.p + 1:self.p + 1 + self.p]\n",
    "        \n",
    "        params_dict = {\n",
    "            \"rho\": rho,\n",
    "            \"omega\": omega,\n",
    "            \"alpha\": alpha,\n",
    "            }\n",
    "        return params_dict\n",
    "\n",
    "    def condV(self, Y, params = None): # Conditional Variance\n",
    "        \n",
    "        omega = params[\"omega\"]\n",
    "        alpha = params[\"alpha\"]\n",
    "\n",
    "        y = self.y(Y)\n",
    "        \n",
    "        condV = lambda t: omega + sum(alpha[i-1] * y(t-i)**2 for i in range(1, self.p+1))\n",
    "        return condV\n",
    "    \n",
    "    def condE(self, Y, params = None): # Conditional Expecation\n",
    "        \n",
    "        rho = params[\"rho\"]\n",
    "        \n",
    "        y = self.y(Y)\n",
    "        condE = lambda t: sum(rho[i-1] * y(t-i) for i in range(1, self.p + 1))\n",
    "        return condE\n",
    "    \n",
    "    def fit(self, Y, dist = \"normal\"): # Maximum Likelihood Estimation\n",
    "\n",
    "        t = self.t(Y)\n",
    "\n",
    "        def MLE(params):\n",
    "            \n",
    "            y = self.y(Y)\n",
    "\n",
    "            if dist == \"student-t\":\n",
    "                nu = params[-1]\n",
    "                params = self.parse_params(params[:-1])\n",
    "            \n",
    "            else:\n",
    "                params = self.parse_params(params)\n",
    "            \n",
    "            condE = self.condE(Y, params)\n",
    "            condV = self.condV(Y, params)\n",
    "\n",
    "            if dist == \"normal\":\n",
    "                l_t = -1/2 * (np.log(condV(t)) + (y(t) - condE(t))**2 / condV(t))\n",
    "            \n",
    "            elif dist == \"student-t\":\n",
    "                term1 = -0.5 * np.log(condV(t) * (nu - 2) * np.pi)\n",
    "                term2 = np.log(gamma_func((nu + 1) / 2)) - np.log(gamma_func(nu / 2))\n",
    "                term3 = -((nu + 1) / 2) * np.log(1 + ((y(t) - condE(t)) ** 2) / (condV(t) * (nu - 2)))\n",
    "                l_t = term1 + term2 + term3\n",
    "\n",
    "            else:\n",
    "                raise ValueError(\"dist must be 'normal' or 'student-t'\")\n",
    "            \n",
    "            L_t = np.nansum(l_t)\n",
    "            return -L_t\n",
    "        \n",
    "        # Initialize parameters\n",
    "        rho_init = [0.0] * self.p\n",
    "        omega_init = [0.05]\n",
    "        alpha_init = [0.5] * self.p\n",
    "        init_params = rho_init + omega_init + alpha_init\n",
    "\n",
    "        # Set parameter bounds\n",
    "        rho_bound = [(None, None)] * self.p\n",
    "        omega_bound = [(0.001, None)]\n",
    "        alpha_bound = [(0.001, None)] * self.p\n",
    "        bounds_params = rho_bound + omega_bound + alpha_bound\n",
    "\n",
    "        # studen-t degrees of freedom\n",
    "        nu_init = [5]\n",
    "        nu_bound = [(2.0001, None)]\n",
    "        \n",
    "        if dist == \"student-t\":\n",
    "            init_params += nu_init\n",
    "            bounds_params += nu_bound\n",
    "        \n",
    "        # opminise the loglikelihood function\n",
    "        result = scipy.optimize.minimize(MLE, init_params, method='SLSQP', bounds=bounds_params)\n",
    "        \n",
    "        # store parameters\n",
    "        if dist == \"student-t\":\n",
    "            self.params = {**self.parse_params(result.x[:-1]), \"nu\": result.x[-1]}\n",
    "        else:\n",
    "            self.params = self.parse_params(result.x)\n",
    "\n",
    "        # store loglikelihood value\n",
    "        self.loglike_val = -result.fun\n",
    "        \n",
    "        return self\n",
    "\n",
    "    def std_res(self, Y): # Standardised Residuals\n",
    "        \n",
    "        t = self.t(Y)\n",
    "        y = self.y(Y)\n",
    "\n",
    "        condE = self.condE(Y, self.params)\n",
    "        condV = self.condV(Y, self.params)\n",
    "\n",
    "        z = lambda t: (y(t) - condE(t)) / np.sqrt(condV(t))\n",
    "        return np.flip(z(t))\n",
    "\n",
    "    def predict(self, Y): # 1-step ahead forecasted mean\n",
    "        \n",
    "        t = self.t(Y)\n",
    "        \n",
    "        condE = self.condE(Y, self.params)\n",
    "        \n",
    "        return np.flip(np.append(condE(t+1), np.nan)).reshape(-1,1)\n",
    "    \n",
    "    def CI(self, Y, alpha_level = 0.05, dist = \"normal\"): # 1-step ahead forecasted confidence intervals\n",
    "\n",
    "        t = self.t(Y)\n",
    "        condE = self.condE(Y, self.params)\n",
    "        condV = self.condV(Y, self.params)\n",
    "\n",
    "        if dist == \"normal\":\n",
    "            z_val = gaussian.ppf(1 - alpha_level / 2)\n",
    "\n",
    "        elif dist == \"student-t\":\n",
    "            nu = self.params[\"nu\"]\n",
    "            z_val = student_t.ppf(1 - alpha_level / 2, df = nu) * np.sqrt((nu - 2) / nu)\n",
    "        \n",
    "        else:\n",
    "            raise ValueError(\"dist must be 'normal' or 'student-t'\")\n",
    "        \n",
    "\n",
    "        CI = lambda t: np.column_stack((condE(t) + z_val * np.sqrt(condV(t)), \n",
    "                                        condE(t) - z_val * np.sqrt(condV(t))\n",
    "                                        ))\n",
    "        \n",
    "        return np.vstack((np.full((1, 2), np.nan), np.flip(CI(t+1))))"
   ]
  },
  {
   "cell_type": "code",
   "execution_count": 11,
   "metadata": {},
   "outputs": [
    {
     "data": {
      "text/plain": [
       "<__main__.DAR at 0x14c373dc0>"
      ]
     },
     "execution_count": 11,
     "metadata": {},
     "output_type": "execute_result"
    }
   ],
   "source": [
    "model = DAR(p = 2)\n",
    "model.fit(Y_train)\n"
   ]
  },
  {
   "cell_type": "code",
   "execution_count": 13,
   "metadata": {},
   "outputs": [
    {
     "data": {
      "text/plain": [
       "{'rho': array([0.99267674, 0.00766694]),\n",
       " 'omega': 0.005999193892047455,\n",
       " 'alpha': array([0.05012422, 0.05009782]),\n",
       " 'nu': 2.3727247894215426}"
      ]
     },
     "execution_count": 13,
     "metadata": {},
     "output_type": "execute_result"
    }
   ],
   "source": [
    "dist = \"student-t\"\n",
    "\n",
    "model = DAR(p = 2)\n",
    "model.fit(Y_train, dist = dist)\n",
    "CI = model.CI(Y_test, dist = dist)\n",
    "fcast = model.predict(Y_test)\n",
    "model.params"
   ]
  },
  {
   "cell_type": "code",
   "execution_count": null,
   "metadata": {},
   "outputs": [],
   "source": []
  },
  {
   "cell_type": "code",
   "execution_count": 15,
   "metadata": {},
   "outputs": [
    {
     "data": {
      "image/png": "[encoded data removed]",
      "text/plain": [
       "<Figure size 1000x600 with 1 Axes>"
      ]
     },
     "metadata": {},
     "output_type": "display_data"
    }
   ],
   "source": [
    "time = np.arange(len(Y_test))\n",
    "lower_bound, upper_bound = CI[:-1, 0], CI[:-1, 1]\n",
    "\n",
    "# Define colors\n",
    "actual_color = '#1f77b4'  # Blue for actual data\n",
    "ci_fill_color = '#aec7e8'  # Light blue for confidence interval fill\n",
    "grid_color = '#d3d3d3'  # Light grey for gridlines\n",
    "\n",
    "# Create the time series plot\n",
    "plt.figure(figsize=(10, 6))  # Adjust figure size for better clarity\n",
    "\n",
    "# Plot the actual data\n",
    "plt.plot(time, Y_test, label='Actual Data', linestyle='-', linewidth=2.5, color=actual_color)\n",
    "\n",
    "# Plot the confidence interval\n",
    "plt.fill_between(time, lower_bound, upper_bound, color=ci_fill_color, alpha=0.4, label='Confidence Interval')\n",
    "\n",
    "# Add labels, title, and legend\n",
    "plt.title('1-step Ahead Forecast', fontsize=16, fontweight='bold', color=actual_color)\n",
    "plt.xlabel('Time', fontsize=14, color=actual_color)\n",
    "plt.ylabel('Values', fontsize=14, color=actual_color)\n",
    "\n",
    "# Enhance the legend\n",
    "plt.legend(fontsize=12, loc='upper left', frameon=True, edgecolor='grey')\n",
    "\n",
    "# Customize gridlines\n",
    "plt.grid(True, which='both', linestyle='--', linewidth=0.7, color=grid_color, alpha=0.8)\n",
    "\n",
    "# Add minor ticks for better granularity\n",
    "plt.minorticks_on()\n",
    "plt.tick_params(axis='both', which='major', labelsize=12, color=actual_color)\n",
    "plt.tick_params(axis='both', which='minor', color=grid_color, length=4)\n",
    "\n",
    "# Adjust layout for clarity\n",
    "plt.tight_layout()\n",
    "\n",
    "# Show the plot\n",
    "plt.show()"
   ]
  },
  {
   "cell_type": "code",
   "execution_count": null,
   "metadata": {},
   "outputs": [],
   "source": []
  },
  {
   "cell_type": "code",
   "execution_count": 259,
   "metadata": {},
   "outputs": [],
   "source": []
  },
  {
   "cell_type": "markdown",
   "metadata": {},
   "source": [
    "# Strict Stationarity"
   ]
  },
  {
   "cell_type": "code",
   "execution_count": 16,
   "metadata": {},
   "outputs": [],
   "source": [
    "from numpy.linalg import eigvals\n",
    "\n",
    "def spectral_radius(matrix):\n",
    "    return max(abs(eigvals(matrix)))"
   ]
  },
  {
   "cell_type": "code",
   "execution_count": 17,
   "metadata": {},
   "outputs": [],
   "source": [
    "p = 2\n",
    "nu = model.params[\"nu\"]\n",
    "T = 100000\n",
    "\n",
    "eta = student_t.rvs(df=nu, size=(p, T)) * np.sqrt((nu - 2) / nu)\n",
    "\n",
    "rho_array = model.params[\"rho\"].reshape(-1,1)\n",
    "alpha_array = model.params[\"alpha\"].reshape(-1,1)\n",
    "\n",
    "# Upper Row\n",
    "upper_row = (rho_array + np.sqrt(alpha_array) * eta).T\n",
    "\n",
    "# Lower Rows\n",
    "bottom_rows = np.hstack((np.eye(p - 1), np.zeros((p - 1, 1))))\n",
    "\n",
    "# Companion Matrix\n",
    "A = np.array([np.vstack((row, bottom_rows)) for row in upper_row])"
   ]
  },
  {
   "cell_type": "code",
   "execution_count": 18,
   "metadata": {},
   "outputs": [
    {
     "data": {
      "text/plain": [
       "(100000, 2, 2)"
      ]
     },
     "execution_count": 18,
     "metadata": {},
     "output_type": "execute_result"
    }
   ],
   "source": [
    "A.shape"
   ]
  },
  {
   "cell_type": "code",
   "execution_count": 66,
   "metadata": {},
   "outputs": [],
   "source": [
    "def strict_statio(A):\n",
    "    \n",
    "    \"\"\"\n",
    "    Approksimate the top Lyapounov exponent of the companion matrix A\n",
    "    \"\"\"\n",
    "\n",
    "    T, p, _ = A.shape\n",
    "    log_sum = 0.0\n",
    "    cumulative_matrix = np.eye(p) # Init with the identity matrix\n",
    "\n",
    "    for t in range(T):\n",
    "        cumulative_matrix = np.dot(cumulative_matrix, A[t]) # Multiply the current matrix with the cumulative product\n",
    "        \n",
    "        norm_val = np.linalg.norm(cumulative_matrix, ord = 'fro') # Compute the norm of the cumulative product (scaled to avoid overflow)\n",
    "        \n",
    "        if norm_val > 0:\n",
    "            \n",
    "            log_sum += np.log(norm_val) # Accumulate the log of the norm\n",
    "            \n",
    "            cumulative_matrix /= norm_val # Normalize the cumulative matrix to prevent overflow\n",
    "        else:\n",
    "            return float('-inf') # Numerical instability or invalid matrix product\n",
    "            \n",
    "    return log_sum / T"
   ]
  },
  {
   "cell_type": "code",
   "execution_count": 67,
   "metadata": {},
   "outputs": [
    {
     "data": {
      "text/plain": [
       "-0.02873955487837407"
      ]
     },
     "execution_count": 67,
     "metadata": {},
     "output_type": "execute_result"
    }
   ],
   "source": [
    "strict_statio(A)"
   ]
  },
  {
   "cell_type": "code",
   "execution_count": 60,
   "metadata": {},
   "outputs": [
    {
     "data": {
      "text/plain": [
       "array([[1.02669097, 0.00820378, 0.00820378, 0.05800998],\n",
       "       [0.99322746, 0.        , 0.00856187, 0.        ],\n",
       "       [0.99322746, 0.00856187, 0.        , 0.        ],\n",
       "       [1.        , 0.        , 0.        , 0.        ]])"
      ]
     },
     "execution_count": 60,
     "metadata": {},
     "output_type": "execute_result"
    }
   ],
   "source": [
    "A_kron = np.array([np.kron(subarray, subarray) for subarray in A])\n",
    "result = np.sum(A_kron, axis=0) / T\n",
    "result"
   ]
  },
  {
   "cell_type": "code",
   "execution_count": 70,
   "metadata": {},
   "outputs": [],
   "source": [
    "import torch\n",
    "torch.set_printoptions(precision=8)\n",
    "def kron_power(A, n):\n",
    "    \n",
    "    A = torch.from_numpy(A).to(dtype = torch.float64)\n",
    "    results = []\n",
    "\n",
    "    for matrix in A:\n",
    "        \n",
    "        result = matrix\n",
    "        for _ in range(n - 1):\n",
    "            result = torch.kron(result, matrix)\n",
    "        results.append(result)\n",
    "\n",
    "    kronekcer_power = torch.stack(results)\n",
    "\n",
    "    return kronekcer_power.cpu().numpy()"
   ]
  },
  {
   "cell_type": "code",
   "execution_count": null,
   "metadata": {},
   "outputs": [],
   "source": []
  },
  {
   "cell_type": "code",
   "execution_count": 71,
   "metadata": {},
   "outputs": [
    {
     "data": {
      "text/plain": [
       "array([[1.02669097, 0.00820378, 0.00820378, 0.05800998],\n",
       "       [0.99322746, 0.        , 0.00856187, 0.        ],\n",
       "       [0.99322746, 0.00856187, 0.        , 0.        ],\n",
       "       [1.        , 0.        , 0.        , 0.        ]])"
      ]
     },
     "execution_count": 71,
     "metadata": {},
     "output_type": "execute_result"
    }
   ],
   "source": [
    "A_kron = kron_power(A,2)\n",
    "np.sum(A_kron, axis=0) / T"
   ]
  },
  {
   "cell_type": "code",
   "execution_count": 72,
   "metadata": {},
   "outputs": [
    {
     "data": {
      "text/plain": [
       "array([[1.02669097, 0.00820378, 0.00820378, 0.05800998],\n",
       "       [0.99322746, 0.        , 0.00856187, 0.        ],\n",
       "       [0.99322746, 0.00856187, 0.        , 0.        ],\n",
       "       [1.        , 0.        , 0.        , 0.        ]])"
      ]
     },
     "execution_count": 72,
     "metadata": {},
     "output_type": "execute_result"
    }
   ],
   "source": [
    "np.average(A_kron, axis=0)"
   ]
  },
  {
   "cell_type": "code",
   "execution_count": 83,
   "metadata": {},
   "outputs": [],
   "source": [
    "import torch\n",
    "torch.set_printoptions(precision=8)\n",
    "\n",
    "class STATIO:\n",
    "    def __init__(self, dist, rho, alpha, nu):\n",
    "        \"\"\"\n",
    "        Dummy\n",
    "        \"\"\"\n",
    "\n",
    "        self.rho = rho\n",
    "        self.alpha = alpha\n",
    "        self.p = max(len(rho), len(alpha))\n",
    "        self.nu = nu\n",
    "        self.dist = dist\n",
    "    \n",
    "    def companion_matrix(self, T_sim = 100000): ## Reformulate the model on companion matrix form ##\n",
    "        \n",
    "        rho = self.rho.reshape(-1,1)\n",
    "        alpha = self.alpha.reshape(-1,1)\n",
    "        nu = self.nu\n",
    "\n",
    "        if self.dist == \"student-t\":\n",
    "            eta = student_t.rvs(df = nu, size=(p, T_sim)) * np.sqrt((nu - 2) / nu)\n",
    "        else:\n",
    "            eta = gaussian.rvs(loc = 0, scale = 1, size=(p, T_sim))\n",
    "\n",
    "        upper_row = (rho + np.sqrt(alpha) * eta).T\n",
    "        bottom_rows = np.hstack((np.eye(p - 1), np.zeros((p - 1, 1))))\n",
    "        A = np.array([np.vstack((row, bottom_rows)) for row in upper_row])\n",
    "\n",
    "        return A\n",
    "    \n",
    "    def kron_power(A, n): ## nth Kronecker power of the componaion matrix ##\n",
    "        \n",
    "        A = torch.from_numpy(A).to(dtype = torch.float64)\n",
    "        \n",
    "        results = []\n",
    "        for matrix in A:\n",
    "            \n",
    "            result = matrix\n",
    "            for _ in range(n - 1):\n",
    "                result = torch.kron(result, matrix)\n",
    "            results.append(result)\n",
    "\n",
    "        kronekcer_power = torch.stack(results)\n",
    "\n",
    "        return kronekcer_power.cpu().numpy()\n",
    "    \n",
    "    def strict_statio(self): ## Approksimate the top Lyapounov exponent of the companion matrix ##\n",
    "        \n",
    "        A = self.companion_matrix()\n",
    "        T, p, _ = A.shape\n",
    "        log_sum = 0.0\n",
    "        cumulative_matrix = np.eye(p) # Init with the identity matrix\n",
    "\n",
    "        for t in range(T):\n",
    "            \n",
    "            cumulative_matrix = np.dot(cumulative_matrix, A[t]) # Multiply the current matrix with the cumulative product\n",
    "            norm_val = np.linalg.norm(cumulative_matrix, ord = 'fro') # Compute the norm of the cumulative product (scaled to avoid overflow)\n",
    "            \n",
    "            if norm_val > 0:\n",
    "                \n",
    "                log_sum += np.log(norm_val) # Accumulate the log of the norm\n",
    "                cumulative_matrix /= norm_val # Normalize the cumulative matrix to prevent overflow\n",
    "            else:\n",
    "                \n",
    "                return float('-inf') # Numerical instability or invalid matrix product\n",
    "            \n",
    "        return log_sum / T\n",
    "    \n",
    "    def weak_statio(self): ## Compute the spectral radius of the expected value of the second order Kronecker power ##\n",
    "        \n",
    "        A = self.companion_matrix()\n",
    "        A_kron2= kron_power(A,2)\n",
    "        A_kron2_expected = np.average(A_kron2, axis=0)\n",
    "        spectral_radius = max(abs(eigvals(A_kron2_expected)))\n",
    "\n",
    "        return spectral_radius\n",
    "    \n"
   ]
  },
  {
   "cell_type": "code",
   "execution_count": 92,
   "metadata": {},
   "outputs": [
    {
     "data": {
      "text/plain": [
       "2"
      ]
     },
     "execution_count": 92,
     "metadata": {},
     "output_type": "execute_result"
    }
   ],
   "source": [
    "nu = model.params[\"nu\"]\n",
    "rho = model.params[\"rho\"]\n",
    "alpha = model.params[\"alpha\"]\n"
   ]
  },
  {
   "cell_type": "markdown",
   "metadata": {},
   "source": [
    "# DAR model v3 "
   ]
  },
  {
   "cell_type": "code",
   "execution_count": 1040,
   "metadata": {},
   "outputs": [],
   "source": [
    "import numpy as np\n",
    "import scipy.optimize\n",
    "from scipy.special import loggamma\n",
    "from scipy.stats import norm as gaussian, t as student_t\n",
    "import numpy as np\n",
    "from numpy.linalg import eigvals\n",
    "import torch\n",
    "torch.set_printoptions(precision=8)\n",
    "\n",
    "\n",
    "class ParamTracker:\n",
    "    def __init__(self, params):\n",
    "        self.params = params\n",
    "        self.accessed_keys = set()\n",
    "\n",
    "    def __getitem__(self, key):\n",
    "        self.accessed_keys.add(key)\n",
    "        \n",
    "        return self.params[key][\"init\"]\n",
    "\n",
    "    def get_keys(self):\n",
    "        return self.accessed_keys\n",
    "\n",
    "class DAR:\n",
    "    def __init__(self, p = 1, dist = \"gaussian\"):\n",
    "        \n",
    "        self.p = p\n",
    "        if not isinstance(p, int) or p <= 0:\n",
    "            raise ValueError(\"'p' must be a strictly positive integer.\")\n",
    "        \n",
    "        self.dist = dist\n",
    "        if dist not in [\"student-t\", \"gaussian\"]:\n",
    "            raise ValueError(\"'dist' must be either 'student-t' or 'gaussian'.\")\n",
    "        \n",
    "        self.params = {\n",
    "            \"rho\": {\"init\": np.array([0.2] * p), \"bound\": [(None, None)] * p},\n",
    "            \"alpha\": {\"init\": np.array([0.5] * p), \"bound\": [(0.001, None)] * p},\n",
    "            \"omega\": {\"init\": np.array([0.5]), \"bound\": [(0.001, None)]},\n",
    "            \"nu\": {\"init\": np.array([5]), \"bound\": [(2.001, None)]},\n",
    "            }\n",
    "        \n",
    "        self.T_sim = 100000\n",
    "        self.max_lag = p\n",
    "    \n",
    "    def __repr__(self):\n",
    "        \"\"\"\n",
    "        Returns a string representation of the DAR model.\n",
    "        \"\"\"\n",
    "        return f\"DAR({self.p}) model assuming {self.dist} errors\"\n",
    "    \n",
    "    def t(self, Y):\n",
    "        t = np.arange(start = -1, stop = -(len(Y) + 1), step = -1)\n",
    "        return t\n",
    "    \n",
    "    def y(self, Y):\n",
    "        Y = np.vstack((np.full((self.max_lag, Y.shape[1]), np.nan), Y))\n",
    "        y = lambda t: Y[t,:]\n",
    "        return y\n",
    "    \n",
    "    def parse_params(self, flat_params):\n",
    "        params = self.params\n",
    "        param_sizes = {key: params[key][\"init\"].size for key in self.param_names}\n",
    "        offsets = np.cumsum([0] + list(param_sizes.values())[:-1])\n",
    "        return {\n",
    "            key: flat_params[offsets[i]: offsets[i] + size].reshape(params[key][\"init\"].shape)\n",
    "            for i, (key, size) in enumerate(param_sizes.items())\n",
    "            }\n",
    "    \n",
    "    def condE(self, Y, params):\n",
    "        rho = params[\"rho\"]\n",
    "        y = self.y(Y)\n",
    "        condE = lambda t: sum(rho[i-1] * y(t-i) for i in range(1, self.p + 1))\n",
    "        return condE\n",
    "    \n",
    "    def condV(self, Y, params):\n",
    "        omega = params[\"omega\"]\n",
    "        alpha = params[\"alpha\"]\n",
    "        y = self.y(Y)\n",
    "        condV = lambda t: omega + sum(alpha[i-1] * y(t-i)**2 for i in range(1, self.p+1))\n",
    "        return condV\n",
    "    \n",
    "    def fit(self, Y):\n",
    "\n",
    "        def log_likelihood(params):\n",
    "            t, y = self.t(Y), self.y(Y)\n",
    "            condE, condV = self.condE(Y, params), self.condV(Y, params)\n",
    "\n",
    "            if self.dist == \"student-t\":\n",
    "                nu = params[\"nu\"]\n",
    "                l_t = -1/2 * np.log(condV(t)) + loggamma((nu + 1)/2) - loggamma(nu/2) -((nu + 1)/2) * np.log(1 + (y(t) - condE(t))**2 / (condV(t) * (nu - 2)))\n",
    "            else:\n",
    "                l_t = -1/2 * (np.log(condV(t)) + (y(t) - condE(t))**2 / condV(t))\n",
    "            return -np.nansum(l_t)\n",
    "                \n",
    "        tracker = ParamTracker(self.params)\n",
    "        self.param_names = (log_likelihood(tracker), tracker)[1].get_keys()\n",
    "        \n",
    "        results = scipy.optimize.minimize(\n",
    "            lambda params: log_likelihood(self.parse_params(params)),\n",
    "            np.concatenate([self.params[key]['init'].ravel() for key in self.param_names]),\n",
    "            method = \"SLSQP\",\n",
    "            bounds = np.concatenate([self.params[key]['bound'] for key in self.param_names]),\n",
    "            )\n",
    "        \n",
    "        self.params = self.parse_params(results.x)\n",
    "        \n",
    "    def companion_matrix(self):\n",
    "        T_sim = self.T_sim\n",
    "        rho   = self.params['rho'].reshape(-1, 1)\n",
    "        alpha = self.params['alpha'].reshape(-1, 1)\n",
    "        p = self.p\n",
    "\n",
    "        if self.dist == \"student-t\":\n",
    "            nu = self.params[\"nu\"]\n",
    "            eta = student_t.rvs(df = nu, size = (p, T_sim)) * np.sqrt((nu - 2) / nu)\n",
    "        else:\n",
    "            eta = gaussian.rvs(loc = 0, scale=1, size=(p, T_sim))\n",
    "        \n",
    "        upper_row = (rho + np.sqrt(alpha) * eta).T\n",
    "        bottom_rows = np.hstack((np.eye(p - 1), np.zeros((p - 1, 1))))\n",
    "        A = np.array([np.vstack((row, bottom_rows)) for row in upper_row])\n",
    "        return A\n",
    "    \n",
    "    def kron_power(self, A, n):\n",
    "        A = torch.from_numpy(A).to(dtype = torch.float64)\n",
    "        \n",
    "        results = []\n",
    "        for matrix in A:    \n",
    "            result = matrix\n",
    "            for _ in range(n - 1):\n",
    "                result = torch.kron(result, matrix)\n",
    "            results.append(result)\n",
    "        \n",
    "        kronekcer_power = torch.stack(results)\n",
    "        return kronekcer_power.cpu().numpy()\n",
    "    \n",
    "    def strict_statio(self):\n",
    "        A = self.companion_matrix()\n",
    "        T, p, _ = A.shape\n",
    "\n",
    "        log_sum = 0.0\n",
    "        cumulative_matrix = np.eye(p)\n",
    "        for t in range(T):\n",
    "            cumulative_matrix = np.dot(cumulative_matrix, A[t])\n",
    "            norm_val = np.linalg.norm(cumulative_matrix, ord = 'fro')\n",
    "            if norm_val > 0:\n",
    "                log_sum += np.log(norm_val)\n",
    "                cumulative_matrix /= norm_val\n",
    "            else:\n",
    "                return float('-inf')\n",
    "        return log_sum / T\n",
    "    \n",
    "    def weak_statio(self):\n",
    "        A = self.companion_matrix()\n",
    "\n",
    "        A_kron2= self.kron_power(A,2)\n",
    "        A_kron2_expected = np.average(A_kron2, axis = 0)\n",
    "        spectral_radius = max(abs(eigvals(A_kron2_expected)))\n",
    "        return spectral_radius\n",
    "    \n",
    "    def statio(self, T_sim = 100000):\n",
    "        \n",
    "        self.T_sim = T_sim\n",
    "        \n",
    "        stationarity_dict = {\n",
    "            \"strictly\": {\"stationary\": self.strict_statio() < 0, \"top Lyapunov exponent\": self.strict_statio()},\n",
    "            \"weakly\": {\"stationary\": self.weak_statio() < 1, \"spectral radius of the expected Kronecker product of the companion matrix\": self.weak_statio()}\n",
    "            }\n",
    "        return stationarity_dict\n",
    "\n",
    "    def std_res(self, Y):        \n",
    "        t, y = self.t(Y), self.y(Y)\n",
    "        condE = self.condE(Y, self.params)\n",
    "        condV = self.condV(Y, self.params)\n",
    "\n",
    "        z = lambda t: (y(t) - condE(t)) / np.sqrt(condV(t))\n",
    "        return np.flip(z(t))\n",
    "\n",
    "    def predict(self, Y):\n",
    "        t = self.t(Y)\n",
    "        condE = self.condE(Y, self.params)\n",
    "\n",
    "        return np.flip(np.append(condE(t+1), np.nan)).reshape(-1,1) \n",
    "    \n",
    "    def predict_CI(self, Y, alpha_level = 0.05):\n",
    "        t = self.t(Y)\n",
    "        condE = self.condE(Y, self.params)\n",
    "        condV = self.condV(Y, self.params)\n",
    "\n",
    "        if self.dist == \"student-t\":\n",
    "            nu = self.params[\"nu\"]\n",
    "            z = student_t.ppf(1 - alpha_level / 2, df = nu) * np.sqrt((nu - 2) / nu)\n",
    "        else:\n",
    "            z = gaussian.ppf(1 - alpha_level / 2)\n",
    "\n",
    "        CI = lambda t: np.column_stack((condE(t) + z * np.sqrt(condV(t)), \n",
    "                                        condE(t) - z * np.sqrt(condV(t))\n",
    "                                        ))\n",
    "        \n",
    "        return np.vstack((np.full((1, 2), np.nan), np.flip(CI(t+1))))\n"
   ]
  },
  {
   "cell_type": "markdown",
   "metadata": {},
   "source": []
  },
  {
   "cell_type": "code",
   "execution_count": null,
   "metadata": {},
   "outputs": [],
   "source": [
    "self1 = DAR(3, dist = \"student-t\")\n",
    "self1.fit(Y)"
   ]
  },
  {
   "cell_type": "code",
   "execution_count": null,
   "metadata": {},
   "outputs": [],
   "source": []
  },
  {
   "cell_type": "code",
   "execution_count": null,
   "metadata": {},
   "outputs": [],
   "source": []
  },
  {
   "cell_type": "code",
   "execution_count": null,
   "metadata": {},
   "outputs": [],
   "source": []
  },
  {
   "cell_type": "code",
   "execution_count": 733,
   "metadata": {},
   "outputs": [
    {
     "data": {
      "text/plain": [
       "{'rho': array([-5.45587545e-09, -5.45587543e-09]),\n",
       " 'alpha': array([-4.77241463e-09, -4.77241474e-09])}"
      ]
     },
     "execution_count": 733,
     "metadata": {},
     "output_type": "execute_result"
    }
   ],
   "source": [
    "# GOOOOOOOOD!!!!!!!!!!!!!!!!\n",
    "\n",
    "class ParamTracker:\n",
    "    def __init__(self, params):\n",
    "        self.params = params\n",
    "        self.accessed_keys = set()\n",
    "\n",
    "    def __getitem__(self, key):\n",
    "        self.accessed_keys.add(key)\n",
    "        # Return \"init\" as a list\n",
    "        return self.params[key][\"init\"]\n",
    "\n",
    "    def get_keys(self):\n",
    "        return self.accessed_keys\n",
    "\n",
    "\n",
    "def test_func(params):\n",
    "    rho = params['rho']\n",
    "    return rho * 2\n",
    "\n",
    "# Define parameters\n",
    "p, d = 2, 2\n",
    "params = {\n",
    "    \"rho\": {\"init\": np.array([0.2] * p), \"bound\": [(-1, 1)] * p},\n",
    "    \"alpha\": {\"init\": np.array([0.5] * p), \"bound\": [(-1, 1)] * p},\n",
    "    \"gamma\": {\"init\": np.full((p, d), 0.5), \"bound\": [(-1, 1)] * (p * d)}\n",
    "    }\n",
    "\n",
    "# Define log-likelihood function\n",
    "def log_likelihood(params):\n",
    "    alpha = params[\"alpha\"]\n",
    "    rho = test_func(params)\n",
    "    #gamma = params[\"gamma\"]\n",
    "    #return np.sum(rho ** 2 + alpha ** 2 + gamma ** 2)\n",
    "    return np.sum(rho ** 2 + alpha ** 2)\n",
    "    \n",
    "\n",
    "tracker = ParamTracker(params)\n",
    "param_names = list((log_likelihood(tracker), tracker)[1].get_keys())\n",
    "\n",
    "\n",
    "# Define reconstruct_params function\n",
    "def parse_params(flat_params):\n",
    "    param_sizes = {key: params[key][\"init\"].size for key in param_names}\n",
    "    offsets = np.cumsum([0] + list(param_sizes.values())[:-1])\n",
    "    return {\n",
    "        key: flat_params[offsets[i]: offsets[i] + size].reshape(params[key][\"init\"].shape)\n",
    "        for i, (key, size) in enumerate(param_sizes.items())\n",
    "        }\n",
    "\n",
    "\n",
    "results = scipy.optimize.minimize(\n",
    "    lambda params: log_likelihood(parse_params(params)),\n",
    "    np.concatenate([params[key]['init'].ravel() for key in param_names]),\n",
    "    method = \"SLSQP\",\n",
    "    bounds = np.concatenate([params[key]['bound'] for key in param_names]),\n",
    "    )\n",
    "\n",
    "optimized_params = parse_params(results.x)\n",
    "for key in param_names:\n",
    "    params[key][\"init\"] = optimized_params[key]\n",
    "\n",
    "\n",
    "optimized_params\n"
   ]
  },
  {
   "cell_type": "code",
   "execution_count": null,
   "metadata": {},
   "outputs": [],
   "source": []
  },
  {
   "cell_type": "code",
   "execution_count": null,
   "metadata": {},
   "outputs": [],
   "source": []
  },
  {
   "cell_type": "code",
   "execution_count": null,
   "metadata": {},
   "outputs": [],
   "source": []
  },
  {
   "cell_type": "code",
   "execution_count": null,
   "metadata": {},
   "outputs": [],
   "source": []
  },
  {
   "cell_type": "code",
   "execution_count": null,
   "metadata": {},
   "outputs": [],
   "source": []
  },
  {
   "cell_type": "code",
   "execution_count": null,
   "metadata": {},
   "outputs": [],
   "source": []
  },
  {
   "cell_type": "code",
   "execution_count": null,
   "metadata": {},
   "outputs": [],
   "source": []
  },
  {
   "cell_type": "code",
   "execution_count": null,
   "metadata": {},
   "outputs": [],
   "source": []
  },
  {
   "cell_type": "code",
   "execution_count": null,
   "metadata": {},
   "outputs": [],
   "source": []
  },
  {
   "cell_type": "code",
   "execution_count": null,
   "metadata": {},
   "outputs": [],
   "source": []
  },
  {
   "cell_type": "code",
   "execution_count": null,
   "metadata": {},
   "outputs": [],
   "source": []
  },
  {
   "cell_type": "code",
   "execution_count": null,
   "metadata": {},
   "outputs": [],
   "source": []
  },
  {
   "cell_type": "code",
   "execution_count": null,
   "metadata": {},
   "outputs": [],
   "source": []
  },
  {
   "cell_type": "code",
   "execution_count": null,
   "metadata": {},
   "outputs": [],
   "source": []
  },
  {
   "cell_type": "code",
   "execution_count": null,
   "metadata": {},
   "outputs": [],
   "source": []
  },
  {
   "cell_type": "code",
   "execution_count": null,
   "metadata": {},
   "outputs": [],
   "source": []
  },
  {
   "cell_type": "code",
   "execution_count": null,
   "metadata": {},
   "outputs": [],
   "source": [
    "# Do not delete\n",
    "\n",
    "params = {\n",
    "    \"rho\": {\"init\": np.array([0.2] * p), \"bound\": [(-1, 1)] * p},\n",
    "    \"alpha\": {\"init\": np.array([0.5] * p), \"bound\": [(-1, 1)] * p},\n",
    "    \"gamma\": {\"init\": np.full((p, d), 0.5), \"bound\": [(-1, 1)] * (p * d)}\n",
    "    }\n",
    "\n",
    "\n",
    " \n",
    "\n",
    "\n",
    "def __repr__(self):\n",
    "        \"\"\"\n",
    "        Returns a string representation of the DAR model.\n",
    "        \"\"\"\n",
    "        return f\"DAR({self.p}) model with {self.dist} innovations\"\n",
    "    \n",
    "\n",
    "    \n",
    "def condV(self, Y, params):\n",
    "        \n",
    "        omega = params[\"omega\"]\n",
    "        alpha = params[\"alpha\"]\n",
    "\n",
    "        y = self.y(Y)\n",
    "        \n",
    "        condV = lambda t: omega + sum(alpha[i-1] * y(t-i)**2 for i in range(1, self.p+1))\n",
    "        return condV\n",
    "\n",
    "def fit(self):\n",
    "\n",
    "        def log_likelihood(params):\n",
    "\n",
    "            t = self.t(Y)\n",
    "            y = self.y(Y)\n",
    "            condE = self.condE(Y, params)\n",
    "            condV = self.condV(Y, params)\n",
    "\n",
    "            l_t = -1/2 * (np.log(condV(t)) + (y(t) - condE(t))**2 / condV(t))\n",
    "            L_t = np.nansum(l_t)\n",
    "            return -L_t\n",
    "        \n",
    "        # Initialize parameters\n",
    "        rho_init = [0.0] * self.p\n",
    "        omega_init = [0.05]\n",
    "        alpha_init = [0.5] * self.p\n",
    "        init_params = rho_init + omega_init + alpha_init\n",
    "\n",
    "        # Set parameter bounds\n",
    "        rho_bound = [(None, None)] * self.p\n",
    "        omega_bound = [(0.001, None)]\n",
    "        alpha_bound = [(0.001, None)] * self.p\n",
    "        bounds_params = rho_bound + omega_bound + alpha_bound\n",
    "\n",
    "        # optimise the loglikelihood function\n",
    "        result = scipy.optimize.minimize(log_likelihood, init_params, method='SLSQP', bounds = bounds_params)"
   ]
  },
  {
   "cell_type": "code",
   "execution_count": 218,
   "metadata": {},
   "outputs": [
    {
     "data": {
      "text/plain": [
       "2"
      ]
     },
     "execution_count": 218,
     "metadata": {},
     "output_type": "execute_result"
    }
   ],
   "source": []
  }
 ],
 "metadata": {
  "kernelspec": {
   "display_name": "dev_env",
   "language": "python",
   "name": "python3"
  },
  "language_info": {
   "codemirror_mode": {
    "name": "ipython",
    "version": 3
   },
   "file_extension": ".py",
   "mimetype": "text/x-python",
   "name": "python",
   "nbconvert_exporter": "python",
   "pygments_lexer": "ipython3",
   "version": "3.9.18"
  }
 },
 "nbformat": 4,
 "nbformat_minor": 2
}
